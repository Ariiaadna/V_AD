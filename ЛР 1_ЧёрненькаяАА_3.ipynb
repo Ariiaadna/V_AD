{
 "cells": [
  {
   "cell_type": "markdown",
   "metadata": {
    "id": "bri_pAriNFqN"
   },
   "source": [
    "**Цель работы:**\n",
    "\n",
    "Осуществить предварительную обработку данных csv-файла, выявить и устранить проблемы в этих данных."
   ]
  },
  {
   "cell_type": "markdown",
   "metadata": {
    "id": "r_e-GeJmgZ8l"
   },
   "source": [
    "# Загрузка набора данных"
   ]
  },
  {
   "cell_type": "markdown",
   "metadata": {
    "id": "eeq9ZAbSguQS"
   },
   "source": [
    "### Описание предметной области"
   ]
  },
  {
   "cell_type": "markdown",
   "metadata": {
    "id": "XHbH8zNIg0Ib"
   },
   "source": [
    "Вариант № 3 (18)\n",
    "\n",
    "Набор данных: salary.csv\n",
    "\n",
    "Атрибуты:\n",
    "1. Год выплаты заработной платы (целое число)\n",
    "2. Тип работы (PT - Part-time, FT - Full-time, FL-Freelance)\n",
    "3. Должность\n",
    "4. Зарплата за год (целое число)\n",
    "5. Зарплата в долларах (целое число)\n",
    "6. Страна проживания\n",
    "7. Страна главного офиса\n",
    "8. Среднее кол-во людей в компании (S - менее 50\n",
    "сотрудников (малая), M от 50 до 250 сотрудников (средняя), L - более 250\n",
    "сотрудников (крупная)) "
   ]
  },
  {
   "cell_type": "markdown",
   "metadata": {
    "id": "Lwin9ia7hT1i"
   },
   "source": [
    "### 1.Чтение файла (набора данных)"
   ]
  },
  {
   "cell_type": "code",
   "execution_count": 1,
   "metadata": {
    "id": "a5dYQO5YhOYa"
   },
   "outputs": [],
   "source": [
    "import pandas as pd\n",
    "data_df = pd.read_csv('salary.csv', sep = ';')"
   ]
  },
  {
   "cell_type": "markdown",
   "metadata": {
    "id": "p82p53SvhjLN"
   },
   "source": [
    "### 2. Обзор данных"
   ]
  },
  {
   "cell_type": "markdown",
   "metadata": {
    "id": "eAYzXaLrh-qh"
   },
   "source": [
    "2.1 Вывод первых 20 строк с помощью метода head."
   ]
  },
  {
   "cell_type": "code",
   "execution_count": 2,
   "metadata": {
    "id": "7yMo3VZ_hotx"
   },
   "outputs": [
    {
     "data": {
      "text/html": [
       "<div>\n",
       "<style scoped>\n",
       "    .dataframe tbody tr th:only-of-type {\n",
       "        vertical-align: middle;\n",
       "    }\n",
       "\n",
       "    .dataframe tbody tr th {\n",
       "        vertical-align: top;\n",
       "    }\n",
       "\n",
       "    .dataframe thead th {\n",
       "        text-align: right;\n",
       "    }\n",
       "</style>\n",
       "<table border=\"1\" class=\"dataframe\">\n",
       "  <thead>\n",
       "    <tr style=\"text-align: right;\">\n",
       "      <th></th>\n",
       "      <th>work_year</th>\n",
       "      <th>employment_type</th>\n",
       "      <th>job_title</th>\n",
       "      <th>salary</th>\n",
       "      <th>salary_in_usd</th>\n",
       "      <th>employee_residence</th>\n",
       "      <th>company_location</th>\n",
       "      <th>company_size</th>\n",
       "    </tr>\n",
       "  </thead>\n",
       "  <tbody>\n",
       "    <tr>\n",
       "      <th>0</th>\n",
       "      <td>2020.0</td>\n",
       "      <td>FT</td>\n",
       "      <td>Data SCIENTIST</td>\n",
       "      <td>70000.0</td>\n",
       "      <td>79833.0</td>\n",
       "      <td>DE</td>\n",
       "      <td>DE</td>\n",
       "      <td>L</td>\n",
       "    </tr>\n",
       "    <tr>\n",
       "      <th>1</th>\n",
       "      <td>2020.0</td>\n",
       "      <td>FT</td>\n",
       "      <td>Product Data Analyst</td>\n",
       "      <td>20000.0</td>\n",
       "      <td>20000.0</td>\n",
       "      <td>HN</td>\n",
       "      <td>HN</td>\n",
       "      <td>S</td>\n",
       "    </tr>\n",
       "    <tr>\n",
       "      <th>2</th>\n",
       "      <td>2020.0</td>\n",
       "      <td>FT</td>\n",
       "      <td>Data Analyst</td>\n",
       "      <td>72000.0</td>\n",
       "      <td>72000.0</td>\n",
       "      <td>US</td>\n",
       "      <td>US</td>\n",
       "      <td>L</td>\n",
       "    </tr>\n",
       "    <tr>\n",
       "      <th>3</th>\n",
       "      <td>2020.0</td>\n",
       "      <td>FT</td>\n",
       "      <td>Data Scientist</td>\n",
       "      <td>11000000.0</td>\n",
       "      <td>35735.0</td>\n",
       "      <td>HU</td>\n",
       "      <td>HU</td>\n",
       "      <td>L</td>\n",
       "    </tr>\n",
       "    <tr>\n",
       "      <th>4</th>\n",
       "      <td>2020.0</td>\n",
       "      <td>FT</td>\n",
       "      <td>Data Scientist</td>\n",
       "      <td>45000.0</td>\n",
       "      <td>51321.0</td>\n",
       "      <td>FR</td>\n",
       "      <td>FR</td>\n",
       "      <td>S</td>\n",
       "    </tr>\n",
       "    <tr>\n",
       "      <th>5</th>\n",
       "      <td>2020.0</td>\n",
       "      <td>FT</td>\n",
       "      <td>Data Scientist</td>\n",
       "      <td>3000000.0</td>\n",
       "      <td>40481.0</td>\n",
       "      <td>IN</td>\n",
       "      <td>IN</td>\n",
       "      <td>L</td>\n",
       "    </tr>\n",
       "    <tr>\n",
       "      <th>6</th>\n",
       "      <td>2020.0</td>\n",
       "      <td>FT</td>\n",
       "      <td>Data Scientist</td>\n",
       "      <td>35000.0</td>\n",
       "      <td>39916.0</td>\n",
       "      <td>FR</td>\n",
       "      <td>FR</td>\n",
       "      <td>M</td>\n",
       "    </tr>\n",
       "    <tr>\n",
       "      <th>7</th>\n",
       "      <td>2020.0</td>\n",
       "      <td>FT</td>\n",
       "      <td>Data Analyst</td>\n",
       "      <td>85000.0</td>\n",
       "      <td>85000.0</td>\n",
       "      <td>US</td>\n",
       "      <td>US</td>\n",
       "      <td>L</td>\n",
       "    </tr>\n",
       "    <tr>\n",
       "      <th>8</th>\n",
       "      <td>2020.0</td>\n",
       "      <td>FT</td>\n",
       "      <td>Data Analyst</td>\n",
       "      <td>8000.0</td>\n",
       "      <td>8000.0</td>\n",
       "      <td>PK</td>\n",
       "      <td>PK</td>\n",
       "      <td>Large</td>\n",
       "    </tr>\n",
       "    <tr>\n",
       "      <th>9</th>\n",
       "      <td>2020.0</td>\n",
       "      <td>FT</td>\n",
       "      <td>Data Engineer</td>\n",
       "      <td>4450000.0</td>\n",
       "      <td>41689.0</td>\n",
       "      <td>JP</td>\n",
       "      <td>JP</td>\n",
       "      <td>S</td>\n",
       "    </tr>\n",
       "    <tr>\n",
       "      <th>10</th>\n",
       "      <td>2020.0</td>\n",
       "      <td>FT</td>\n",
       "      <td>Product Data Analyst</td>\n",
       "      <td>450000.0</td>\n",
       "      <td>6072.0</td>\n",
       "      <td>IN</td>\n",
       "      <td>IN</td>\n",
       "      <td>L</td>\n",
       "    </tr>\n",
       "    <tr>\n",
       "      <th>11</th>\n",
       "      <td>2020.0</td>\n",
       "      <td>FT</td>\n",
       "      <td>Data Engineer</td>\n",
       "      <td>42000.0</td>\n",
       "      <td>47899.0</td>\n",
       "      <td>GR</td>\n",
       "      <td>GR</td>\n",
       "      <td>L</td>\n",
       "    </tr>\n",
       "    <tr>\n",
       "      <th>12</th>\n",
       "      <td>2020.0</td>\n",
       "      <td>FT</td>\n",
       "      <td>Data Engineer</td>\n",
       "      <td>720000.0</td>\n",
       "      <td>33511.0</td>\n",
       "      <td>MX</td>\n",
       "      <td>MX</td>\n",
       "      <td>S</td>\n",
       "    </tr>\n",
       "    <tr>\n",
       "      <th>13</th>\n",
       "      <td>2020.0</td>\n",
       "      <td>FT</td>\n",
       "      <td>Machine Learning Manager</td>\n",
       "      <td>157000.0</td>\n",
       "      <td>117104.0</td>\n",
       "      <td>CA</td>\n",
       "      <td>CA</td>\n",
       "      <td>L</td>\n",
       "    </tr>\n",
       "    <tr>\n",
       "      <th>14</th>\n",
       "      <td>2020.0</td>\n",
       "      <td>FT</td>\n",
       "      <td>Data Scientist</td>\n",
       "      <td>60000.0</td>\n",
       "      <td>68428.0</td>\n",
       "      <td>GR</td>\n",
       "      <td>US</td>\n",
       "      <td>L</td>\n",
       "    </tr>\n",
       "    <tr>\n",
       "      <th>15</th>\n",
       "      <td>2020.0</td>\n",
       "      <td>FT</td>\n",
       "      <td>Data Analyst</td>\n",
       "      <td>41000.0</td>\n",
       "      <td>46759.0</td>\n",
       "      <td>FR</td>\n",
       "      <td>FR</td>\n",
       "      <td>L</td>\n",
       "    </tr>\n",
       "    <tr>\n",
       "      <th>16</th>\n",
       "      <td>2020.0</td>\n",
       "      <td>FT</td>\n",
       "      <td>Data Engineer</td>\n",
       "      <td>65000.0</td>\n",
       "      <td>74130.0</td>\n",
       "      <td>AT</td>\n",
       "      <td>AT</td>\n",
       "      <td>L</td>\n",
       "    </tr>\n",
       "    <tr>\n",
       "      <th>17</th>\n",
       "      <td>2020.0</td>\n",
       "      <td>FT</td>\n",
       "      <td>Data Analyst</td>\n",
       "      <td>10000.0</td>\n",
       "      <td>10000.0</td>\n",
       "      <td>NG</td>\n",
       "      <td>NG</td>\n",
       "      <td>S</td>\n",
       "    </tr>\n",
       "    <tr>\n",
       "      <th>18</th>\n",
       "      <td>2020.0</td>\n",
       "      <td>FT</td>\n",
       "      <td>Data Scientist</td>\n",
       "      <td>45760.0</td>\n",
       "      <td>45760.0</td>\n",
       "      <td>PH</td>\n",
       "      <td>US</td>\n",
       "      <td>S</td>\n",
       "    </tr>\n",
       "    <tr>\n",
       "      <th>19</th>\n",
       "      <td>2020.0</td>\n",
       "      <td>FT</td>\n",
       "      <td>Data Engineer</td>\n",
       "      <td>106000.0</td>\n",
       "      <td>106000.0</td>\n",
       "      <td>US</td>\n",
       "      <td>US</td>\n",
       "      <td>L</td>\n",
       "    </tr>\n",
       "  </tbody>\n",
       "</table>\n",
       "</div>"
      ],
      "text/plain": [
       "    work_year employment_type                 job_title      salary  \\\n",
       "0      2020.0              FT            Data SCIENTIST     70000.0   \n",
       "1      2020.0              FT      Product Data Analyst     20000.0   \n",
       "2      2020.0              FT              Data Analyst     72000.0   \n",
       "3      2020.0              FT            Data Scientist  11000000.0   \n",
       "4      2020.0              FT            Data Scientist     45000.0   \n",
       "5      2020.0              FT            Data Scientist   3000000.0   \n",
       "6      2020.0              FT            Data Scientist     35000.0   \n",
       "7      2020.0              FT              Data Analyst     85000.0   \n",
       "8      2020.0              FT              Data Analyst      8000.0   \n",
       "9      2020.0              FT             Data Engineer   4450000.0   \n",
       "10     2020.0              FT      Product Data Analyst    450000.0   \n",
       "11     2020.0              FT             Data Engineer     42000.0   \n",
       "12     2020.0              FT             Data Engineer    720000.0   \n",
       "13     2020.0              FT  Machine Learning Manager    157000.0   \n",
       "14     2020.0              FT            Data Scientist     60000.0   \n",
       "15     2020.0              FT              Data Analyst     41000.0   \n",
       "16     2020.0              FT             Data Engineer     65000.0   \n",
       "17     2020.0              FT              Data Analyst     10000.0   \n",
       "18     2020.0              FT            Data Scientist     45760.0   \n",
       "19     2020.0              FT             Data Engineer    106000.0   \n",
       "\n",
       "    salary_in_usd employee_residence company_location company_size  \n",
       "0         79833.0                 DE               DE            L  \n",
       "1         20000.0                 HN               HN            S  \n",
       "2         72000.0                 US               US            L  \n",
       "3         35735.0                 HU               HU            L  \n",
       "4         51321.0                 FR               FR            S  \n",
       "5         40481.0                 IN               IN            L  \n",
       "6         39916.0                 FR               FR            M  \n",
       "7         85000.0                 US               US            L  \n",
       "8          8000.0                 PK               PK        Large  \n",
       "9         41689.0                 JP               JP            S  \n",
       "10         6072.0                 IN               IN            L  \n",
       "11        47899.0                 GR               GR            L  \n",
       "12        33511.0                 MX               MX            S  \n",
       "13       117104.0                 CA               CA            L  \n",
       "14        68428.0                 GR               US            L  \n",
       "15        46759.0                 FR               FR            L  \n",
       "16        74130.0                 AT               AT            L  \n",
       "17        10000.0                 NG               NG            S  \n",
       "18        45760.0                 PH               US            S  \n",
       "19       106000.0                 US               US            L  "
      ]
     },
     "execution_count": 2,
     "metadata": {},
     "output_type": "execute_result"
    }
   ],
   "source": [
    "data_df.head(20)"
   ]
  },
  {
   "cell_type": "markdown",
   "metadata": {
    "id": "Ze-lXxLMhpWv"
   },
   "source": [
    "2.2 Оценка данных с помощью метода info."
   ]
  },
  {
   "cell_type": "code",
   "execution_count": 3,
   "metadata": {
    "id": "bjhngmaLiGM-"
   },
   "outputs": [
    {
     "name": "stdout",
     "output_type": "stream",
     "text": [
      "<class 'pandas.core.frame.DataFrame'>\n",
      "RangeIndex: 401 entries, 0 to 400\n",
      "Data columns (total 8 columns):\n",
      " #   Column              Non-Null Count  Dtype  \n",
      "---  ------              --------------  -----  \n",
      " 0   work_year           401 non-null    float64\n",
      " 1   employment_type     401 non-null    object \n",
      " 2   job_title           401 non-null    object \n",
      " 3   salary              398 non-null    float64\n",
      " 4   salary_in_usd       401 non-null    float64\n",
      " 5   employee_residence  401 non-null    object \n",
      " 6   company_location    401 non-null    object \n",
      " 7   company_size        401 non-null    object \n",
      "dtypes: float64(3), object(5)\n",
      "memory usage: 25.2+ KB\n"
     ]
    }
   ],
   "source": [
    "data_df.info()"
   ]
  },
  {
   "cell_type": "markdown",
   "metadata": {
    "id": "06PDq9DAiMAY"
   },
   "source": [
    "2.3 Оценка данных с помощью метода describe."
   ]
  },
  {
   "cell_type": "code",
   "execution_count": 4,
   "metadata": {
    "id": "cTVFwzO1jQfN"
   },
   "outputs": [
    {
     "data": {
      "text/html": [
       "<div>\n",
       "<style scoped>\n",
       "    .dataframe tbody tr th:only-of-type {\n",
       "        vertical-align: middle;\n",
       "    }\n",
       "\n",
       "    .dataframe tbody tr th {\n",
       "        vertical-align: top;\n",
       "    }\n",
       "\n",
       "    .dataframe thead th {\n",
       "        text-align: right;\n",
       "    }\n",
       "</style>\n",
       "<table border=\"1\" class=\"dataframe\">\n",
       "  <thead>\n",
       "    <tr style=\"text-align: right;\">\n",
       "      <th></th>\n",
       "      <th>work_year</th>\n",
       "      <th>salary</th>\n",
       "      <th>salary_in_usd</th>\n",
       "    </tr>\n",
       "  </thead>\n",
       "  <tbody>\n",
       "    <tr>\n",
       "      <th>count</th>\n",
       "      <td>401.000000</td>\n",
       "      <td>3.980000e+02</td>\n",
       "      <td>401.000000</td>\n",
       "    </tr>\n",
       "    <tr>\n",
       "      <th>mean</th>\n",
       "      <td>2021.528678</td>\n",
       "      <td>2.888336e+05</td>\n",
       "      <td>105895.017456</td>\n",
       "    </tr>\n",
       "    <tr>\n",
       "      <th>std</th>\n",
       "      <td>0.678086</td>\n",
       "      <td>1.677081e+06</td>\n",
       "      <td>58183.664171</td>\n",
       "    </tr>\n",
       "    <tr>\n",
       "      <th>min</th>\n",
       "      <td>2020.000000</td>\n",
       "      <td>4.000000e+03</td>\n",
       "      <td>2859.000000</td>\n",
       "    </tr>\n",
       "    <tr>\n",
       "      <th>25%</th>\n",
       "      <td>2021.000000</td>\n",
       "      <td>6.700000e+04</td>\n",
       "      <td>65013.000000</td>\n",
       "    </tr>\n",
       "    <tr>\n",
       "      <th>50%</th>\n",
       "      <td>2022.000000</td>\n",
       "      <td>1.091400e+05</td>\n",
       "      <td>100000.000000</td>\n",
       "    </tr>\n",
       "    <tr>\n",
       "      <th>75%</th>\n",
       "      <td>2022.000000</td>\n",
       "      <td>1.500000e+05</td>\n",
       "      <td>140000.000000</td>\n",
       "    </tr>\n",
       "    <tr>\n",
       "      <th>max</th>\n",
       "      <td>2022.000000</td>\n",
       "      <td>3.040000e+07</td>\n",
       "      <td>412000.000000</td>\n",
       "    </tr>\n",
       "  </tbody>\n",
       "</table>\n",
       "</div>"
      ],
      "text/plain": [
       "         work_year        salary  salary_in_usd\n",
       "count   401.000000  3.980000e+02     401.000000\n",
       "mean   2021.528678  2.888336e+05  105895.017456\n",
       "std       0.678086  1.677081e+06   58183.664171\n",
       "min    2020.000000  4.000000e+03    2859.000000\n",
       "25%    2021.000000  6.700000e+04   65013.000000\n",
       "50%    2022.000000  1.091400e+05  100000.000000\n",
       "75%    2022.000000  1.500000e+05  140000.000000\n",
       "max    2022.000000  3.040000e+07  412000.000000"
      ]
     },
     "execution_count": 4,
     "metadata": {},
     "output_type": "execute_result"
    }
   ],
   "source": [
    "data_df.describe()"
   ]
  },
  {
   "cell_type": "markdown",
   "metadata": {
    "id": "oOZUrZGuiGqc"
   },
   "source": [
    "\n",
    "---\n",
    "\n",
    "**Выводы:**\n",
    "  \n",
    "По стобцу `work_year` и строкам `min` и `max` можно определить - перед нами выборка с 2020 по 2022 год. \n",
    "По строке `50%` того же столбца можно сделать вывод, что больше половины записей за 2022 год.\n",
    "\n",
    "По столбцу `salary` сделать вывод нельзя, так как значения там в неизвестной валюте.\n",
    "\n",
    "По строке `mean` и столбцу `salary_in_usd` можно сказать что средняя зарплата по всем направлениям и странам 105895 usd\n",
    "По строке `min` минимальная зарплата 2859 usd\n",
    "По строке `max` максимальная зарплата 412000 usd\n",
    "По строке `50%` больше половины записей в датасете получают от 100000 usd\n",
    "\n",
    "---\n"
   ]
  },
  {
   "cell_type": "markdown",
   "metadata": {
    "id": "JTbo0IGDiHxn"
   },
   "source": [
    " 2.4 Оценка названий столбцов"
   ]
  },
  {
   "cell_type": "code",
   "execution_count": 5,
   "metadata": {
    "id": "9NEyi2Odik3e"
   },
   "outputs": [
    {
     "data": {
      "text/plain": [
       "Index(['work_year', 'employment_type', 'job_title', 'salary', 'salary_in_usd',\n",
       "       'employee_residence', 'company_location', 'company_size'],\n",
       "      dtype='object')"
      ]
     },
     "execution_count": 5,
     "metadata": {},
     "output_type": "execute_result"
    }
   ],
   "source": [
    "data_df.columns"
   ]
  },
  {
   "cell_type": "markdown",
   "metadata": {
    "id": "QSJBLl4qjjP8"
   },
   "source": [
    "Все названия уже приведены к одному формату и нижнему регистру"
   ]
  },
  {
   "cell_type": "markdown",
   "metadata": {
    "id": "V0tLQcyrjnA_"
   },
   "source": [
    "### 3. Проверка пропусков"
   ]
  },
  {
   "cell_type": "code",
   "execution_count": 6,
   "metadata": {
    "id": "xuTz-Avjj9AW"
   },
   "outputs": [
    {
     "data": {
      "text/plain": [
       "work_year             0\n",
       "employment_type       0\n",
       "job_title             0\n",
       "salary                3\n",
       "salary_in_usd         0\n",
       "employee_residence    0\n",
       "company_location      0\n",
       "company_size          0\n",
       "dtype: int64"
      ]
     },
     "execution_count": 6,
     "metadata": {},
     "output_type": "execute_result"
    }
   ],
   "source": [
    "data_df.isnull().sum()"
   ]
  },
  {
   "cell_type": "markdown",
   "metadata": {
    "id": "efZ7vgSVkPQH"
   },
   "source": [
    "\n",
    "---\n",
    "\n",
    "В результате 3 пропуска в `salary`, но так как этих пропусков нет в `salary_in_usd`, а со столбцом `salary` в ЛР нет заданий - данные пропуски не критичны. \n",
    "\n",
    " ---"
   ]
  },
  {
   "cell_type": "markdown",
   "metadata": {
    "id": "kkyrXXHikEXk"
   },
   "source": [
    "### 4. Проверка дубликатов"
   ]
  },
  {
   "cell_type": "markdown",
   "metadata": {
    "id": "ImqHvr3okIQ6"
   },
   "source": [
    "#### Проверка явных дубликатов"
   ]
  },
  {
   "cell_type": "code",
   "execution_count": 7,
   "metadata": {
    "id": "qu1oh-e5lDZ1"
   },
   "outputs": [
    {
     "name": "stdout",
     "output_type": "stream",
     "text": [
      "Количество явных дубликатов до удаления: 55\n"
     ]
    }
   ],
   "source": [
    "# Проверить наличие явных дубликатов\n",
    "print(\"Количество явных дубликатов до удаления:\", data_df.duplicated().sum())"
   ]
  },
  {
   "cell_type": "code",
   "execution_count": 8,
   "metadata": {
    "id": "ntArgvChkK26"
   },
   "outputs": [
    {
     "name": "stdout",
     "output_type": "stream",
     "text": [
      "Количество явных дубликатов после удаления: 0\n"
     ]
    }
   ],
   "source": [
    "data_df.drop_duplicates(inplace=True)\n",
    "print(\"Количество явных дубликатов после удаления:\", data_df.duplicated().sum())"
   ]
  },
  {
   "cell_type": "markdown",
   "metadata": {
    "id": "VeHTMcOmkLSw"
   },
   "source": [
    "#### Проверка неявных дубликатов"
   ]
  },
  {
   "cell_type": "code",
   "execution_count": 9,
   "metadata": {
    "id": "-uOPKHlVlGo8"
   },
   "outputs": [
    {
     "name": "stdout",
     "output_type": "stream",
     "text": [
      "В столбце work_year: [2020. 2021. 2022.]\n",
      "\n",
      "В столбце company_size: ['L' 'S' 'M' 'Large']\n",
      "\n",
      "В столбце employment_type: ['FT' 'PT' 'FL']\n",
      "\n",
      "В столбце job_title: ['Data SCIENTIST' 'Product Data Analyst' 'Data Analyst' 'Data Scientist'\n",
      " 'Data Engineer' 'Machine Learning Manager' 'Data Analytics Engineer'\n",
      " 'Data Science Engineer' 'Machine Learning Developer'\n",
      " 'Data Analytics Manager' 'Head of Data Science'\n",
      " 'Head of Machine Learning' 'NLP Engineer' 'Data Analytics Lead'\n",
      " 'DataScientist' 'Data AnalyticsManager']\n",
      "\n",
      "В столбце employee_residence: ['DE' 'HN' 'US' 'HU' 'FR' 'IN' 'PK' 'JP' 'GR' 'MX' 'CA' 'AT' 'NG' 'PH'\n",
      " 'GB' 'ES' 'IT' 'PL' 'BG' 'NL' 'IQ' 'UA' 'SG' 'RU' 'MT' 'CL' 'RO' 'IR'\n",
      " 'VN' 'BR' 'HK' 'TR' 'RS' 'AR' 'DZ' 'AU' 'CH']\n",
      "\n",
      "В столбце company_location: ['DE' 'HN' 'US' 'HU' 'FR' 'IN' 'PK' 'JP' 'GR' 'MX' 'CA' 'AT' 'NG' 'GB'\n",
      " 'ES' 'IT' 'LU' 'PL' 'NL' 'IQ' 'UA' 'IL' 'RU' 'MT' 'CL' 'IR' 'BR' 'VN'\n",
      " 'TR' 'DZ' 'MY' 'AU' 'CH']\n"
     ]
    }
   ],
   "source": [
    "\n",
    "print(\"В столбце work_year:\", data_df['work_year'].unique()) # Поиск уникальных значений в указаном столбце\n",
    "print ()\n",
    "print(\"В столбце company_size:\",data_df['company_size'].unique()) # Поиск уникальных значений в указаном столбце\n",
    "print ()\n",
    "print(\"В столбце employment_type:\",data_df['employment_type'].unique()) # Поиск уникальных значений в указаном столбце\n",
    "print ()\n",
    "print(\"В столбце job_title:\",data_df['job_title'].unique()) # Поиск уникальных значений в указаном столбце\n",
    "print ()\n",
    "print(\"В столбце employee_residence:\",data_df['employee_residence'].unique()) # Поиск уникальных значений в указаном столбце\n",
    "print ()\n",
    "print(\"В столбце company_location:\",data_df['company_location'].unique()) # Поиск уникальных значений в указаном столбце\n"
   ]
  },
  {
   "cell_type": "markdown",
   "metadata": {},
   "source": [
    "Можем заметить дубликаты, например, `Data SCIENTIST`, `Data Scientist`, и `DataScientist`, а так же `Large` вместо `L`"
   ]
  },
  {
   "cell_type": "code",
   "execution_count": 10,
   "metadata": {
    "id": "89tMFEQ2k_M7"
   },
   "outputs": [],
   "source": [
    "# удаление дубликатов\n",
    "data_df['company_size'] = data_df['company_size'].replace('Large', 'L')\n",
    "\n",
    "duplicates_job_title = ['Data SCIENTIST', 'DataScientist'] # список неправильных названий\n",
    "name_job_title = 'Data Scientist'# правильное название\n",
    "data_df['job_title'] = data_df['job_title'].replace(duplicates_job_title, name_job_title) \n",
    "data_df['job_title'] = data_df['job_title'].replace('Data AnalyticsManager', 'Data Analytics Manager')"
   ]
  },
  {
   "cell_type": "markdown",
   "metadata": {
    "id": "GMcnDpOmlKhU"
   },
   "source": [
    "---\n",
    "Сделаем перепроверку дубликатов \n",
    " ---"
   ]
  },
  {
   "cell_type": "code",
   "execution_count": 11,
   "metadata": {},
   "outputs": [
    {
     "name": "stdout",
     "output_type": "stream",
     "text": [
      "Повторная проверка дубликатов:  2\n"
     ]
    }
   ],
   "source": [
    "print(\"Повторная проверка дубликатов: \", data_df.duplicated().sum())\n",
    "data_df = data_df.drop_duplicates()"
   ]
  },
  {
   "cell_type": "markdown",
   "metadata": {
    "id": "md9GhfYMlbi7"
   },
   "source": [
    "### 5. Провека типов данных"
   ]
  },
  {
   "cell_type": "code",
   "execution_count": 12,
   "metadata": {
    "id": "lXTroENaluCW"
   },
   "outputs": [
    {
     "data": {
      "text/plain": [
       "work_year             float64\n",
       "employment_type        object\n",
       "job_title              object\n",
       "salary                float64\n",
       "salary_in_usd         float64\n",
       "employee_residence     object\n",
       "company_location       object\n",
       "company_size           object\n",
       "dtype: object"
      ]
     },
     "execution_count": 12,
     "metadata": {},
     "output_type": "execute_result"
    }
   ],
   "source": [
    "# Проверьте типов данных\n",
    "data_df.dtypes"
   ]
  },
  {
   "cell_type": "markdown",
   "metadata": {},
   "source": [
    "Приведём тип данных `work_year` к целочисленному типу. "
   ]
  },
  {
   "cell_type": "code",
   "execution_count": 13,
   "metadata": {
    "id": "WXhXgu29lop3"
   },
   "outputs": [
    {
     "data": {
      "text/plain": [
       "work_year               int64\n",
       "employment_type        object\n",
       "job_title              object\n",
       "salary                float64\n",
       "salary_in_usd         float64\n",
       "employee_residence     object\n",
       "company_location       object\n",
       "company_size           object\n",
       "dtype: object"
      ]
     },
     "execution_count": 13,
     "metadata": {},
     "output_type": "execute_result"
    }
   ],
   "source": [
    "data_df['work_year'] = data_df['work_year'].astype(int)\n",
    "\n",
    "data_df.dtypes"
   ]
  },
  {
   "cell_type": "markdown",
   "metadata": {
    "id": "lzr0SgqlnmHy"
   },
   "source": [
    "### 6. Группировка данных"
   ]
  },
  {
   "cell_type": "markdown",
   "metadata": {
    "id": "QG_dbwzfmZoS"
   },
   "source": [
    "#### Задание 1"
   ]
  },
  {
   "cell_type": "markdown",
   "metadata": {
    "id": "CyCKTB4DmciW"
   },
   "source": [
    "*`Формулировка задания`*\n",
    "Группировка - “employment_type” и количество каждой локации\n",
    "“company_location”. Результат должен быть выведен в следующем формате.\n",
    "**Описание**\n",
    "Группировка – \"employment_type\" и количество каждой локации \"company_location\". Задание означает что нужно «сгрупировать» данные по столбцу \"employment_type\" и подсчитать количество каждой локации. Группировка в pandas осуществляется с помощью groupby(): метод принимает в качестве аргумента название столбца, по которому нужно группировать (например, год, пол, категория). В данном случае employment_type. метод возвращает объект типа DataFrameGroupBy , то есть сгруппированные данные, к которым можно применять различные методы (count, sum, min, max, mean, last). В методических указаниях есть пример подходящий для данного задания: df.groupby('column1')\\['n'\\].count() # группировка по column1 и подсчет количества элементов в конкретном столбце n. Однако формат вывода данного метода не соотвествует примеру, поэтому применяем `value_counts()`, который анализирует столбец, показывает каждое уникальное значение, прим этом подсчитывая частоту его встречаемости в списке, результат это пары: значение и частота, отсортированные по убыванию.\n"
   ]
  },
  {
   "cell_type": "code",
   "execution_count": 14,
   "metadata": {
    "id": "tp8Bl1gumYlI"
   },
   "outputs": [
    {
     "name": "stdout",
     "output_type": "stream",
     "text": [
      "employment_type  company_location\n",
      "FL               US                    2\n",
      "FT               US                  205\n",
      "                 GB                   32\n",
      "                 CA                   15\n",
      "                 IN                   13\n",
      "                 DE                   11\n",
      "                 FR                   11\n",
      "                 ES                    9\n",
      "                 GR                    9\n",
      "                 AT                    3\n",
      "                 MX                    3\n",
      "                 TR                    3\n",
      "                 NG                    2\n",
      "                 PK                    2\n",
      "                 PL                    2\n",
      "                 AU                    1\n",
      "                 BR                    1\n",
      "                 CH                    1\n",
      "                 CL                    1\n",
      "                 HN                    1\n",
      "                 HU                    1\n",
      "                 IL                    1\n",
      "                 IQ                    1\n",
      "                 IR                    1\n",
      "                 JP                    1\n",
      "                 LU                    1\n",
      "                 MT                    1\n",
      "                 MY                    1\n",
      "                 NL                    1\n",
      "                 RU                    1\n",
      "                 UA                    1\n",
      "                 VN                    1\n",
      "PT               DE                    1\n",
      "                 DZ                    1\n",
      "                 ES                    1\n",
      "                 IT                    1\n",
      "                 NL                    1\n",
      "Name: count, dtype: int64\n"
     ]
    }
   ],
   "source": [
    "print(data_df.groupby('employment_type')['company_location'].value_counts())"
   ]
  },
  {
   "cell_type": "markdown",
   "metadata": {
    "id": "jLmhNuq0mms3"
   },
   "source": [
    "**Выводы**\n",
    "В результате группировки по типу занятости и локации компании видно, что подавляющее большинство работников представлено в категории Full-time (FT). Наибольшее количество записей относится к США (205 случая), что указывает на доминирование американского рынка в наборе данных. Freelance (FL) встречается крайне редко (2 случая в США), а Part-time (PT) также имеет минимальное количество записей, распределённых по разным странам. Это позволяет сделать вывод, что набор данных в основном описывает сотрудников, работающих на полной занятости в крупных компаниях, преимущественно с головными офисами в США."
   ]
  },
  {
   "cell_type": "markdown",
   "metadata": {
    "id": "j0isGCzEne7a"
   },
   "source": [
    "#### Задание 2"
   ]
  },
  {
   "cell_type": "markdown",
   "metadata": {
    "id": "kE2vLBWbne7a"
   },
   "source": [
    "*`Формулировка задания`*\n",
    "Группировка - “work_year” и количество компаний каждого размера.\n",
    "Создать датафрейм. Переименовать столбец с количеством в “сount”.\n",
    "Отсортировать по убыванию столбца “count”. \n",
    "\n",
    "Попробуем аналогичную логику первого задания, но переименовать столбец и добавить стортировку Использован метод groupby для группировки данных по году работы (`work_year`) и размеру компании (`company_size`).\n",
    "\n",
    "С помощью `value_counts()` подсчитано количество записей для каждой комбинации.\n",
    "\n",
    "Результат преобразован в датафрейм с помощью `.reset_index()`.\n",
    "\n",
    "Выполнена сортировка по столбцу count в порядке убывания (`ascending = False`).\n",
    "\n",
    "Итоговый датафрейм `d_q2` выведен на экран (`print(d_q2)`), что позволяет определить наиболее часто встречающиеся комбинации года работы и размера компании."
   ]
  },
  {
   "cell_type": "code",
   "execution_count": 15,
   "metadata": {
    "id": "ttn78Zaene7a"
   },
   "outputs": [
    {
     "name": "stdout",
     "output_type": "stream",
     "text": [
      "   work_year company_size  count\n",
      "6       2022            M    172\n",
      "3       2021            L     55\n",
      "4       2021            M     30\n",
      "7       2022            L     23\n",
      "0       2020            L     22\n",
      "5       2021            S     18\n",
      "1       2020            S     15\n",
      "2       2020            M      5\n",
      "8       2022            S      4\n"
     ]
    }
   ],
   "source": [
    "d_q2 = data_df.groupby('work_year')['company_size'].value_counts().reset_index()\n",
    "d_q2 = d_q2.sort_values(by='count',ascending = False)\n",
    "print(d_q2)"
   ]
  },
  {
   "cell_type": "markdown",
   "metadata": {
    "id": "HCyyeAu6ne7a"
   },
   "source": [
    "**`Сделайте вывод - интерпретацию - что можно увидеть из результата данной группировки?`**"
   ]
  },
  {
   "cell_type": "markdown",
   "metadata": {
    "id": "NKLZ0m7Nne7b"
   },
   "source": [
    "--- \n",
    "\n",
    "По результатам группировки можно сделать вывод, что в датасете преобладают компании среднего размера (M), особенно в 2022 году (172 записи). Компании большого размера (L) стабильно занимают значимую долю, а малые компании (S) встречаются значительно реже, причём их количество снижается от 2020 к 2022 году. Таким образом, выборка данных в основном отражает сотрудников средних компаний 2022 и крупных компаний 2021, при этом малые компании представлены минимально.\n",
    "\n",
    "---"
   ]
  },
  {
   "cell_type": "markdown",
   "metadata": {
    "id": "_3fHGp64nhUJ"
   },
   "source": [
    "#### Задание 3"
   ]
  },
  {
   "cell_type": "markdown",
   "metadata": {
    "id": "_Bc4ehyKnhUJ"
   },
   "source": [
    "*`Формулировка задания`* Сводная таблица (pivot_table) - средняя зарплата в usd по должностям\n",
    "(”job_title”). Отсортировать по убыванию. Округлить до двух знаков после запятой.\n",
    "Переименовать столбец “salary_in_usd” в “зарплата”.\n",
    "\n",
    "Сводная таблица по запрплатам и должностям С помощью метода `pivot_table()` была построена сводная таблица, где в строках указаны должности, а в значениях — средняя зарплата. С помощью `reset_index()` индекс был преобразован в обычный столбец, чтобы таблица имела привычный вид. Методом `round(2)` значения были округлены до двух знаков после запятой. Столбец с зарплатами был переименован с `salary_in_usd` на более понятное название `зарплата` с помощью функции `rename()`. Для отображения должностей от самой высокой к самой низкой средней зарплате применена сортировка `sort_values(by=\"зарплата\", ascending=False)`."
   ]
  },
  {
   "cell_type": "code",
   "execution_count": 16,
   "metadata": {
    "id": "siDovPvQnhUJ"
   },
   "outputs": [
    {
     "data": {
      "text/html": [
       "<div>\n",
       "<style scoped>\n",
       "    .dataframe tbody tr th:only-of-type {\n",
       "        vertical-align: middle;\n",
       "    }\n",
       "\n",
       "    .dataframe tbody tr th {\n",
       "        vertical-align: top;\n",
       "    }\n",
       "\n",
       "    .dataframe thead th {\n",
       "        text-align: right;\n",
       "    }\n",
       "</style>\n",
       "<table border=\"1\" class=\"dataframe\">\n",
       "  <thead>\n",
       "    <tr style=\"text-align: right;\">\n",
       "      <th></th>\n",
       "      <th>job_title</th>\n",
       "      <th>зарплата</th>\n",
       "    </tr>\n",
       "  </thead>\n",
       "  <tbody>\n",
       "    <tr>\n",
       "      <th>2</th>\n",
       "      <td>Data Analytics Lead</td>\n",
       "      <td>405000.00</td>\n",
       "    </tr>\n",
       "    <tr>\n",
       "      <th>7</th>\n",
       "      <td>Head of Data Science</td>\n",
       "      <td>146718.75</td>\n",
       "    </tr>\n",
       "    <tr>\n",
       "      <th>3</th>\n",
       "      <td>Data Analytics Manager</td>\n",
       "      <td>127134.29</td>\n",
       "    </tr>\n",
       "    <tr>\n",
       "      <th>10</th>\n",
       "      <td>Machine Learning Manager</td>\n",
       "      <td>117104.00</td>\n",
       "    </tr>\n",
       "    <tr>\n",
       "      <th>4</th>\n",
       "      <td>Data Engineer</td>\n",
       "      <td>109295.46</td>\n",
       "    </tr>\n",
       "    <tr>\n",
       "      <th>6</th>\n",
       "      <td>Data Scientist</td>\n",
       "      <td>102113.59</td>\n",
       "    </tr>\n",
       "    <tr>\n",
       "      <th>9</th>\n",
       "      <td>Machine Learning Developer</td>\n",
       "      <td>89395.50</td>\n",
       "    </tr>\n",
       "    <tr>\n",
       "      <th>0</th>\n",
       "      <td>Data Analyst</td>\n",
       "      <td>88597.23</td>\n",
       "    </tr>\n",
       "    <tr>\n",
       "      <th>8</th>\n",
       "      <td>Head of Machine Learning</td>\n",
       "      <td>79039.00</td>\n",
       "    </tr>\n",
       "    <tr>\n",
       "      <th>5</th>\n",
       "      <td>Data Science Engineer</td>\n",
       "      <td>75803.33</td>\n",
       "    </tr>\n",
       "    <tr>\n",
       "      <th>1</th>\n",
       "      <td>Data Analytics Engineer</td>\n",
       "      <td>64799.25</td>\n",
       "    </tr>\n",
       "    <tr>\n",
       "      <th>11</th>\n",
       "      <td>NLP Engineer</td>\n",
       "      <td>37236.00</td>\n",
       "    </tr>\n",
       "    <tr>\n",
       "      <th>12</th>\n",
       "      <td>Product Data Analyst</td>\n",
       "      <td>13036.00</td>\n",
       "    </tr>\n",
       "  </tbody>\n",
       "</table>\n",
       "</div>"
      ],
      "text/plain": [
       "                     job_title   зарплата\n",
       "2          Data Analytics Lead  405000.00\n",
       "7         Head of Data Science  146718.75\n",
       "3       Data Analytics Manager  127134.29\n",
       "10    Machine Learning Manager  117104.00\n",
       "4                Data Engineer  109295.46\n",
       "6               Data Scientist  102113.59\n",
       "9   Machine Learning Developer   89395.50\n",
       "0                 Data Analyst   88597.23\n",
       "8     Head of Machine Learning   79039.00\n",
       "5        Data Science Engineer   75803.33\n",
       "1      Data Analytics Engineer   64799.25\n",
       "11                NLP Engineer   37236.00\n",
       "12        Product Data Analyst   13036.00"
      ]
     },
     "metadata": {},
     "output_type": "display_data"
    }
   ],
   "source": [
    "# Сводная таблица: средняя зарплата по должностям\n",
    "pivot = data_df.pivot_table(index=['job_title'], values='salary_in_usd',aggfunc='mean')\n",
    "pivot = pivot.reset_index()\n",
    "pivot[\"salary_in_usd\"] = pivot[\"salary_in_usd\"].round(2)\n",
    "pivot = pivot.rename(columns={\"salary_in_usd\": \"зарплата\"})\n",
    "pivot = pivot.sort_values(by=\"зарплата\", ascending=False)\n",
    "display(pivot)"
   ]
  },
  {
   "cell_type": "markdown",
   "metadata": {
    "id": "1-vw8iyUnhUK"
   },
   "source": [
    "**Выводы**\n",
    "По результатам анализа видно, что наибольшие средние зарплаты характерны для руководящих должностей. Средний уровень зарплат наблюдается у специальностей, которые входят в число наиболее востребованных специалистов. Наименьшие значения характерны для узкопрофильных позиций, что может быть связано как с меньшим количеством данных по ним, так и с особенностями рынка. В целом, таблица отражает закономерность: чем выше управленческая роль, тем выше средняя зарплата."
   ]
  },
  {
   "cell_type": "markdown",
   "metadata": {
    "id": "FOlw74xCniNo"
   },
   "source": [
    "#### Задание 4"
   ]
  },
  {
   "cell_type": "markdown",
   "metadata": {
    "id": "4tvYwT25niNq"
   },
   "source": [
    "*`Формулировка задания`*\n",
    "Сводная таблица (pivot_table) - медианная зарплата по годам - строки,\n",
    "и по “employment_type” - столбцы. Отсортировать по убыванию годов.\n",
    "\n",
    "Используя уже использованные ранее методы строим таблицу `pivot_table()` – построение сводной таблицы: строки = `work_year`, столбцы = `employment_type`, значения = медианная зарплата `(salary_in_usd)` `.aggfunc=\"median\"` – расчёт медианного значения вместо среднего."
   ]
  },
  {
   "cell_type": "code",
   "execution_count": 17,
   "metadata": {
    "id": "TfJ719g6niNq"
   },
   "outputs": [
    {
     "data": {
      "text/html": [
       "<div>\n",
       "<style scoped>\n",
       "    .dataframe tbody tr th:only-of-type {\n",
       "        vertical-align: middle;\n",
       "    }\n",
       "\n",
       "    .dataframe tbody tr th {\n",
       "        vertical-align: top;\n",
       "    }\n",
       "\n",
       "    .dataframe thead th {\n",
       "        text-align: right;\n",
       "    }\n",
       "</style>\n",
       "<table border=\"1\" class=\"dataframe\">\n",
       "  <thead>\n",
       "    <tr style=\"text-align: right;\">\n",
       "      <th>employment_type</th>\n",
       "      <th>FL</th>\n",
       "      <th>FT</th>\n",
       "      <th>PT</th>\n",
       "    </tr>\n",
       "    <tr>\n",
       "      <th>work_year</th>\n",
       "      <th></th>\n",
       "      <th></th>\n",
       "      <th></th>\n",
       "    </tr>\n",
       "  </thead>\n",
       "  <tbody>\n",
       "    <tr>\n",
       "      <th>2022</th>\n",
       "      <td>100000.0</td>\n",
       "      <td>115717.0</td>\n",
       "      <td>77478.5</td>\n",
       "    </tr>\n",
       "    <tr>\n",
       "      <th>2021</th>\n",
       "      <td>20000.0</td>\n",
       "      <td>79598.5</td>\n",
       "      <td>40047.5</td>\n",
       "    </tr>\n",
       "    <tr>\n",
       "      <th>2020</th>\n",
       "      <td>NaN</td>\n",
       "      <td>68428.0</td>\n",
       "      <td>21669.0</td>\n",
       "    </tr>\n",
       "  </tbody>\n",
       "</table>\n",
       "</div>"
      ],
      "text/plain": [
       "employment_type        FL        FT       PT\n",
       "work_year                                   \n",
       "2022             100000.0  115717.0  77478.5\n",
       "2021              20000.0   79598.5  40047.5\n",
       "2020                  NaN   68428.0  21669.0"
      ]
     },
     "metadata": {},
     "output_type": "display_data"
    }
   ],
   "source": [
    "pivot2 = data_df.pivot_table(values='salary_in_usd', index='work_year', columns='employment_type', aggfunc='median')\n",
    "pivot2 = pivot2.sort_values(by='work_year',ascending = False)\n",
    "display(pivot2)"
   ]
  },
  {
   "cell_type": "markdown",
   "metadata": {
    "id": "yqJqvk5qniNr"
   },
   "source": [
    "**Выводы**\n",
    "Медианные зарплаты растут по всем типам занятости с 2020 по 2022 гг. Наибольшие значения наблюдаются у FT, достигнув 116 тыс. в 2022 году. FL представлен только с 2021 года, при этом медиана резко выросла до 100 тыс. в 2022 году. PT имеет значительно более низкие зарплаты, но также демонстрирует рост."
   ]
  },
  {
   "cell_type": "markdown",
   "metadata": {
    "id": "TpnXb6gip3S8"
   },
   "source": [
    "### Вывод"
   ]
  },
  {
   "cell_type": "markdown",
   "metadata": {
    "id": "nqLa096jM1Z8"
   },
   "source": [
    "Анализировался набор данных `salary.csv`, содержащий сведения о зарплатах специалистов в области данных за 2020–2022 годы: тип занятости, должность, страна проживания, страна офиса, размер компании и доход в долларах США.\n",
    "\n",
    "**Предобработка данных**\n",
    "\n",
    "Чтение файла через `pd.read_csv()`.\n",
    "Первичный обзор с помощью `head()`, `info()`, `describe()`.\n",
    "Удаление 55 явных дубликатов методом `drop_duplicates()`. Далее поиск и удаление ещё 2х неявных дубликатов.\n",
    "Обнаружено 3 пропуска в `salary` при отсутствии их в `salary_in_usd`; решение — оставить без заполнения, так как для анализа использовался именно `salary_in_usd`.\n",
    "Приведение типа `work_year` к `int`.\n",
    "\n",
    "**Основные результаты анализа**\n",
    "\n",
    "Группировка по типу занятости и локации (задание 1): подавляющее большинство сотрудников работают Full-time, основная часть данных относится к США; Part-time и Freelance встречаются редко.\n",
    "Группировка по году и размеру компании: наибольшая часть данных приходится на 2022 год; преобладают компании среднего размера (M), доля малых компаний (S) снижается.\n",
    "Сводная таблица по должности и зарплате в долларах: руководящие должности имеют наибольшие средние зарплаты, тогда как узкопрофильные роли получают заметно меньше.\n",
    "Сводная таблица по году и типу занятости: медианные зарплаты стабильно растут с 2020 по 2022 гг.; FT выше, чем PT, а в 2022 г. FL приблизился по медиане к FT.\n",
    "Средняя зарплата по выборке составила ≈ 105 895 USD, медианная — более 100 000 USD; диапазон колеблется от 2 859 до 412 000 USD.\n",
    "\n",
    "**Итог**\n",
    "\n",
    "Данные отражают рынок труда специалистов в области данных за 2020–2022 гг.:\n",
    "-доминируют контракты полной занятости;\n",
    "-основная часть компаний находится в США;\n",
    "-преобладают средние и крупные работодатели;\n",
    "-уровень зарплат демонстрирует рост по всем категориям занятости.\n"
   ]
  },
  {
   "cell_type": "markdown",
   "metadata": {
    "id": "Sn3y7og_vjGG"
   },
   "source": [
    "### Дополнительное задание"
   ]
  },
  {
   "cell_type": "markdown",
   "metadata": {
    "id": "rR6WgHXYvlqD"
   },
   "source": [
    "**`Подробная формулировка задания`**\n",
    "18. Отфильтровать набор данных. \n",
    "- Выбрать только топ 7 должностей по средней зп\n",
    "- \\+ топ 1 год выплаты по количеству записей в году\n",
    "- \\+ топ 2 размера компании по количеству записей в этом столбце.\n",
    "- \\+ Для отфильтрованного набора данных создать сводную таблицу: должность и медианная зарплата в долларах по\n",
    "размеру компании.\n"
   ]
  },
  {
   "cell_type": "markdown",
   "metadata": {},
   "source": [
    "Выбор топ 7 должностеей по средней зп, выполняем поэтапно. Для начала группируем и высчитываем среднюю зп."
   ]
  },
  {
   "cell_type": "code",
   "execution_count": 18,
   "metadata": {},
   "outputs": [],
   "source": [
    "# 1. Топ-7 должностей по средней з/п\n",
    "jobs = (data_df.groupby(\"job_title\")[\"salary_in_usd\"].mean())"
   ]
  },
  {
   "cell_type": "markdown",
   "metadata": {},
   "source": [
    "Далее сортируем наши данные по убыванию"
   ]
  },
  {
   "cell_type": "code",
   "execution_count": 19,
   "metadata": {},
   "outputs": [],
   "source": [
    "# сортировка по убыванию\n",
    "jobs = jobs.sort_values(ascending=False)"
   ]
  },
  {
   "cell_type": "markdown",
   "metadata": {},
   "source": [
    "Далее выбираем только первые 7 записей и формируем датафрейм"
   ]
  },
  {
   "cell_type": "code",
   "execution_count": 20,
   "metadata": {
    "id": "wG5TGQpevlBq"
   },
   "outputs": [
    {
     "name": "stdout",
     "output_type": "stream",
     "text": [
      "Топ 7 должностей:\n"
     ]
    },
    {
     "data": {
      "text/plain": [
       "job_title\n",
       "Data Analytics Lead           405000.000000\n",
       "Head of Data Science          146718.750000\n",
       "Data Analytics Manager        127134.285714\n",
       "Machine Learning Manager      117104.000000\n",
       "Data Engineer                 109295.464912\n",
       "Data Scientist                102113.590551\n",
       "Machine Learning Developer     89395.500000\n",
       "Name: salary_in_usd, dtype: float64"
      ]
     },
     "metadata": {},
     "output_type": "display_data"
    }
   ],
   "source": [
    "# выбор первых 7\n",
    "top_jobs = jobs.head(7)\n",
    "print(\"Топ 7 должностей:\")\n",
    "display(top_jobs)"
   ]
  },
  {
   "cell_type": "markdown",
   "metadata": {},
   "source": [
    "Далее найдём топ 1 год выплаты по количеству записей в году"
   ]
  },
  {
   "cell_type": "code",
   "execution_count": 21,
   "metadata": {},
   "outputs": [
    {
     "data": {
      "text/plain": [
       "work_year\n",
       "2022    199\n",
       "Name: count, dtype: int64"
      ]
     },
     "metadata": {},
     "output_type": "display_data"
    }
   ],
   "source": [
    "top_year = data_df[\"work_year\"].value_counts().head(1)\n",
    "display(top_year)"
   ]
  },
  {
   "cell_type": "markdown",
   "metadata": {},
   "source": [
    "Далее найдем топ 2 размера компании по числу записей в столбце"
   ]
  },
  {
   "cell_type": "code",
   "execution_count": 22,
   "metadata": {},
   "outputs": [
    {
     "name": "stdout",
     "output_type": "stream",
     "text": [
      "Топ-2 размера компаний:\n",
      " company_size\n",
      "M    207\n",
      "L    100\n",
      "Name: count, dtype: int64\n"
     ]
    }
   ],
   "source": [
    "top_sizes = data_df[\"company_size\"].value_counts().head(2)\n",
    "print(\"Топ-2 размера компаний:\\n\", top_sizes)"
   ]
  },
  {
   "cell_type": "markdown",
   "metadata": {},
   "source": [
    "После данных действий можно выполнить фильтрацию"
   ]
  },
  {
   "cell_type": "code",
   "execution_count": 23,
   "metadata": {},
   "outputs": [],
   "source": [
    "filtered = data_df[\n",
    "    (data_df[\"job_title\"].isin(top_jobs.index)) & (data_df[\"work_year\"].isin(top_year.index)) &\n",
    "    (data_df[\"company_size\"].isin(top_sizes.index))\n",
    "]"
   ]
  },
  {
   "cell_type": "markdown",
   "metadata": {},
   "source": [
    "Далее создадим сводную таблицу"
   ]
  },
  {
   "cell_type": "code",
   "execution_count": 24,
   "metadata": {},
   "outputs": [],
   "source": [
    "pivot18 = pd.pivot_table(\n",
    "    filtered,\n",
    "    values=\"salary_in_usd\",\n",
    "    index=\"job_title\",\n",
    "    columns=\"company_size\",\n",
    "    aggfunc=\"median\"\n",
    ")"
   ]
  },
  {
   "cell_type": "code",
   "execution_count": 25,
   "metadata": {},
   "outputs": [
    {
     "data": {
      "text/html": [
       "<div>\n",
       "<style scoped>\n",
       "    .dataframe tbody tr th:only-of-type {\n",
       "        vertical-align: middle;\n",
       "    }\n",
       "\n",
       "    .dataframe tbody tr th {\n",
       "        vertical-align: top;\n",
       "    }\n",
       "\n",
       "    .dataframe thead th {\n",
       "        text-align: right;\n",
       "    }\n",
       "</style>\n",
       "<table border=\"1\" class=\"dataframe\">\n",
       "  <thead>\n",
       "    <tr style=\"text-align: right;\">\n",
       "      <th>company_size</th>\n",
       "      <th>L</th>\n",
       "      <th>M</th>\n",
       "    </tr>\n",
       "    <tr>\n",
       "      <th>job_title</th>\n",
       "      <th></th>\n",
       "      <th></th>\n",
       "    </tr>\n",
       "  </thead>\n",
       "  <tbody>\n",
       "    <tr>\n",
       "      <th>Data Analytics Lead</th>\n",
       "      <td>405000.0</td>\n",
       "      <td>NaN</td>\n",
       "    </tr>\n",
       "    <tr>\n",
       "      <th>Data Analytics Manager</th>\n",
       "      <td>NaN</td>\n",
       "      <td>127140.0</td>\n",
       "    </tr>\n",
       "    <tr>\n",
       "      <th>Data Engineer</th>\n",
       "      <td>154600.0</td>\n",
       "      <td>116394.5</td>\n",
       "    </tr>\n",
       "    <tr>\n",
       "      <th>Data Scientist</th>\n",
       "      <td>128673.0</td>\n",
       "      <td>136620.0</td>\n",
       "    </tr>\n",
       "    <tr>\n",
       "      <th>Head of Data Science</th>\n",
       "      <td>NaN</td>\n",
       "      <td>195937.5</td>\n",
       "    </tr>\n",
       "    <tr>\n",
       "      <th>Machine Learning Developer</th>\n",
       "      <td>NaN</td>\n",
       "      <td>78791.0</td>\n",
       "    </tr>\n",
       "  </tbody>\n",
       "</table>\n",
       "</div>"
      ],
      "text/plain": [
       "company_size                       L         M\n",
       "job_title                                     \n",
       "Data Analytics Lead         405000.0       NaN\n",
       "Data Analytics Manager           NaN  127140.0\n",
       "Data Engineer               154600.0  116394.5\n",
       "Data Scientist              128673.0  136620.0\n",
       "Head of Data Science             NaN  195937.5\n",
       "Machine Learning Developer       NaN   78791.0"
      ]
     },
     "metadata": {},
     "output_type": "display_data"
    }
   ],
   "source": [
    "display(pivot18)"
   ]
  },
  {
   "cell_type": "markdown",
   "metadata": {},
   "source": [
    "В ходе выполнения задания был сформирован отфильтрованный набор данных: оставлены топ-7 должностей по средней зарплате, выбран год с максимальным количеством записей в датасете, оставлены топ-2 размера компаний по числу встречаемости.\n",
    "\n",
    "На основе этих условий построена сводная таблица, где:\n",
    "\n",
    "строки – это должности,\n",
    "\n",
    "столбцы – размеры компании (M — средние, L — крупные),\n",
    "\n",
    "значения – медианные зарплаты в долларах США.\n",
    "\n",
    "В сводной таблице некоторые ячейки содержат `NaN`. Это связано с тем, что в отфильтрованном наборе данных отсутствуют записи по соответствующей комбинации должности и размера компании. Например, должность Data Analytics Lead встречается только в крупных компаниях, поэтому для средних компаний значения отсутствуют.\n",
    "\n",
    "Высокие значения зарплат в крупных компаниях (L):\n",
    "\n",
    "Лидером является должность Data Analytics Lead с медианной зарплатой 405 000\\$ в крупных компаниях.\n",
    "\n",
    "Также заметны высокие зарплаты у Data Engineer (154 600 \\$) и Data Scientist (128 673\\$) в больших компаниях.\n",
    "\n",
    "Средние компании (M):\n",
    "\n",
    "Head of Data Science имеет медианную зарплату 195 937\\$, что является максимальным значением среди средних компаний.\n",
    "\n",
    "У Data Scientist (136 620) и Data Analytics Manager (127 140 \\$) зарплаты в среднем сегменте также достаточно высокие.\n",
    "\n",
    "Самая низкая медианная зарплата отмечена у Machine Learning Developer (78 791\\$).\n",
    "\n",
    "Сравнение компаний разных размеров:\n",
    "\n",
    "Для некоторых должностей зарплата выше в больших компаниях (L) (Data Analytics Lead, Data Engineer).\n",
    "\n",
    "Для других должностей медианные зарплаты выше в средних компаниях (M) (Head of Data Science, Data Scientist).\n",
    "\n",
    "Это показывает, что уровень зарплаты зависит не только от размера компании, но и от конкретной должности.\n",
    "\n",
    "**Вывод**\n",
    "\n",
    "В результате анализа можно сделать следующие выводы:\n",
    "\n",
    "Наиболее высоко оплачиваемая должность в крупных компаниях — Data Analytics Lead.\n",
    "\n",
    "В средних компаниях лидером по зарплате является Head of Data Science.\n",
    "\n",
    "Уровень зарплаты существенно варьируется в зависимости от должности и размера компании: например, Data Scientist получает больше в средних компаниях, а Data Engineer — в крупных.\n",
    "\n",
    "В целом можно отметить, что крупные компании предлагают более высокие зарплаты по управленческим позициям, однако для исследовательских и руководящих должностей в области науки о данных (Head of Data Science) средние компании иногда оказываются конкурентоспособнее."
   ]
  },
  {
   "cell_type": "markdown",
   "metadata": {},
   "source": [
    "## Задание 6\n",
    "Создать столбец “Категория зарплаты в долларах” (с помощью\n",
    "категоризации). Выделить минимум 3 категории (низкая, высокая, средняя),\n",
    "фильтрацию для уровня зарплаты выбрать самостоятельно, аргументировать\n",
    "выбор. Создать сводную таблицу: минимальная и максимальная зп в долларах\n",
    "по категории зарплаты в долларах и должности. "
   ]
  },
  {
   "cell_type": "markdown",
   "metadata": {},
   "source": [
    "метод qcut() позволяет разделить данные на равные квантили. Соответственно мы создаём новый столбец \"Категория зарпоаты в долларах\"и с помощью метода qcut: столбец `\"salary_in_usd\"` разбиваем на 3 равные квантили (`q3`) и называем каждую квантиль соответвественно \"низкая\", \"средняя\", \"высокая\"). Чтобы продемонстрировать что столбец добавлен выводиться первые 10 записей с помощью `head(10)` "
   ]
  },
  {
   "cell_type": "code",
   "execution_count": 26,
   "metadata": {},
   "outputs": [
    {
     "data": {
      "text/html": [
       "<div>\n",
       "<style scoped>\n",
       "    .dataframe tbody tr th:only-of-type {\n",
       "        vertical-align: middle;\n",
       "    }\n",
       "\n",
       "    .dataframe tbody tr th {\n",
       "        vertical-align: top;\n",
       "    }\n",
       "\n",
       "    .dataframe thead th {\n",
       "        text-align: right;\n",
       "    }\n",
       "</style>\n",
       "<table border=\"1\" class=\"dataframe\">\n",
       "  <thead>\n",
       "    <tr style=\"text-align: right;\">\n",
       "      <th></th>\n",
       "      <th>work_year</th>\n",
       "      <th>employment_type</th>\n",
       "      <th>job_title</th>\n",
       "      <th>salary</th>\n",
       "      <th>salary_in_usd</th>\n",
       "      <th>employee_residence</th>\n",
       "      <th>company_location</th>\n",
       "      <th>company_size</th>\n",
       "      <th>Категория зарплаты в долларах</th>\n",
       "    </tr>\n",
       "  </thead>\n",
       "  <tbody>\n",
       "    <tr>\n",
       "      <th>0</th>\n",
       "      <td>2020</td>\n",
       "      <td>FT</td>\n",
       "      <td>Data Scientist</td>\n",
       "      <td>70000.0</td>\n",
       "      <td>79833.0</td>\n",
       "      <td>DE</td>\n",
       "      <td>DE</td>\n",
       "      <td>L</td>\n",
       "      <td>средняя</td>\n",
       "    </tr>\n",
       "    <tr>\n",
       "      <th>1</th>\n",
       "      <td>2020</td>\n",
       "      <td>FT</td>\n",
       "      <td>Product Data Analyst</td>\n",
       "      <td>20000.0</td>\n",
       "      <td>20000.0</td>\n",
       "      <td>HN</td>\n",
       "      <td>HN</td>\n",
       "      <td>S</td>\n",
       "      <td>низкая</td>\n",
       "    </tr>\n",
       "    <tr>\n",
       "      <th>2</th>\n",
       "      <td>2020</td>\n",
       "      <td>FT</td>\n",
       "      <td>Data Analyst</td>\n",
       "      <td>72000.0</td>\n",
       "      <td>72000.0</td>\n",
       "      <td>US</td>\n",
       "      <td>US</td>\n",
       "      <td>L</td>\n",
       "      <td>низкая</td>\n",
       "    </tr>\n",
       "    <tr>\n",
       "      <th>3</th>\n",
       "      <td>2020</td>\n",
       "      <td>FT</td>\n",
       "      <td>Data Scientist</td>\n",
       "      <td>11000000.0</td>\n",
       "      <td>35735.0</td>\n",
       "      <td>HU</td>\n",
       "      <td>HU</td>\n",
       "      <td>L</td>\n",
       "      <td>низкая</td>\n",
       "    </tr>\n",
       "    <tr>\n",
       "      <th>4</th>\n",
       "      <td>2020</td>\n",
       "      <td>FT</td>\n",
       "      <td>Data Scientist</td>\n",
       "      <td>45000.0</td>\n",
       "      <td>51321.0</td>\n",
       "      <td>FR</td>\n",
       "      <td>FR</td>\n",
       "      <td>S</td>\n",
       "      <td>низкая</td>\n",
       "    </tr>\n",
       "    <tr>\n",
       "      <th>5</th>\n",
       "      <td>2020</td>\n",
       "      <td>FT</td>\n",
       "      <td>Data Scientist</td>\n",
       "      <td>3000000.0</td>\n",
       "      <td>40481.0</td>\n",
       "      <td>IN</td>\n",
       "      <td>IN</td>\n",
       "      <td>L</td>\n",
       "      <td>низкая</td>\n",
       "    </tr>\n",
       "    <tr>\n",
       "      <th>6</th>\n",
       "      <td>2020</td>\n",
       "      <td>FT</td>\n",
       "      <td>Data Scientist</td>\n",
       "      <td>35000.0</td>\n",
       "      <td>39916.0</td>\n",
       "      <td>FR</td>\n",
       "      <td>FR</td>\n",
       "      <td>M</td>\n",
       "      <td>низкая</td>\n",
       "    </tr>\n",
       "    <tr>\n",
       "      <th>7</th>\n",
       "      <td>2020</td>\n",
       "      <td>FT</td>\n",
       "      <td>Data Analyst</td>\n",
       "      <td>85000.0</td>\n",
       "      <td>85000.0</td>\n",
       "      <td>US</td>\n",
       "      <td>US</td>\n",
       "      <td>L</td>\n",
       "      <td>средняя</td>\n",
       "    </tr>\n",
       "    <tr>\n",
       "      <th>8</th>\n",
       "      <td>2020</td>\n",
       "      <td>FT</td>\n",
       "      <td>Data Analyst</td>\n",
       "      <td>8000.0</td>\n",
       "      <td>8000.0</td>\n",
       "      <td>PK</td>\n",
       "      <td>PK</td>\n",
       "      <td>L</td>\n",
       "      <td>низкая</td>\n",
       "    </tr>\n",
       "    <tr>\n",
       "      <th>9</th>\n",
       "      <td>2020</td>\n",
       "      <td>FT</td>\n",
       "      <td>Data Engineer</td>\n",
       "      <td>4450000.0</td>\n",
       "      <td>41689.0</td>\n",
       "      <td>JP</td>\n",
       "      <td>JP</td>\n",
       "      <td>S</td>\n",
       "      <td>низкая</td>\n",
       "    </tr>\n",
       "  </tbody>\n",
       "</table>\n",
       "</div>"
      ],
      "text/plain": [
       "   work_year employment_type             job_title      salary  salary_in_usd  \\\n",
       "0       2020              FT        Data Scientist     70000.0        79833.0   \n",
       "1       2020              FT  Product Data Analyst     20000.0        20000.0   \n",
       "2       2020              FT          Data Analyst     72000.0        72000.0   \n",
       "3       2020              FT        Data Scientist  11000000.0        35735.0   \n",
       "4       2020              FT        Data Scientist     45000.0        51321.0   \n",
       "5       2020              FT        Data Scientist   3000000.0        40481.0   \n",
       "6       2020              FT        Data Scientist     35000.0        39916.0   \n",
       "7       2020              FT          Data Analyst     85000.0        85000.0   \n",
       "8       2020              FT          Data Analyst      8000.0         8000.0   \n",
       "9       2020              FT         Data Engineer   4450000.0        41689.0   \n",
       "\n",
       "  employee_residence company_location company_size  \\\n",
       "0                 DE               DE            L   \n",
       "1                 HN               HN            S   \n",
       "2                 US               US            L   \n",
       "3                 HU               HU            L   \n",
       "4                 FR               FR            S   \n",
       "5                 IN               IN            L   \n",
       "6                 FR               FR            M   \n",
       "7                 US               US            L   \n",
       "8                 PK               PK            L   \n",
       "9                 JP               JP            S   \n",
       "\n",
       "  Категория зарплаты в долларах  \n",
       "0                       средняя  \n",
       "1                        низкая  \n",
       "2                        низкая  \n",
       "3                        низкая  \n",
       "4                        низкая  \n",
       "5                        низкая  \n",
       "6                        низкая  \n",
       "7                       средняя  \n",
       "8                        низкая  \n",
       "9                        низкая  "
      ]
     },
     "execution_count": 26,
     "metadata": {},
     "output_type": "execute_result"
    }
   ],
   "source": [
    "data_df[\"Категория зарплаты в долларах\"] = pd.qcut(\n",
    "    data_df[\"salary_in_usd\"],\n",
    "    q=3,\n",
    "    labels=[\"низкая\", \"средняя\", \"высокая\"]\n",
    ")\n",
    "\n",
    "data_df.head(10)"
   ]
  },
  {
   "cell_type": "markdown",
   "metadata": {},
   "source": [
    "## Создание водной таблицы \n"
   ]
  },
  {
   "cell_type": "markdown",
   "metadata": {},
   "source": [
    "Далее создаём сводную таблицу: \n",
    "\n",
    "Указываем, по какому столбцу считать значения. (`values=\"salary_in_usd\"`)\n",
    "\n",
    "Строками в нашей таблице будет `\"Категория зарплаты в долларах\"` и `\"job_title\"`\n",
    "т.е. сначала групируются данные по категории зарплаты (низкая/средняя/высокая),а внутри каждой категории ещё и по должности (job_title)\n",
    "\n",
    "Для каждой категории + должности найдём минимальную зарплату и максимальную зарплату `.aggfunc=[\"min\", \"max\"]`\n",
    "\n",
    ".observed=False этот параметр нужен только когда в index есть категориальные столбцы.\n",
    "\n",
    "Если observed=False → сводная таблица показывает все возможные комбинации категорий и должностей (даже если каких-то в данных нет).\n",
    "\n",
    "Если observed=True → таблица показывает только реально встречающиеся комбинации."
   ]
  },
  {
   "cell_type": "code",
   "execution_count": 27,
   "metadata": {},
   "outputs": [
    {
     "data": {
      "text/html": [
       "<div>\n",
       "<style scoped>\n",
       "    .dataframe tbody tr th:only-of-type {\n",
       "        vertical-align: middle;\n",
       "    }\n",
       "\n",
       "    .dataframe tbody tr th {\n",
       "        vertical-align: top;\n",
       "    }\n",
       "\n",
       "    .dataframe thead tr th {\n",
       "        text-align: left;\n",
       "    }\n",
       "\n",
       "    .dataframe thead tr:last-of-type th {\n",
       "        text-align: right;\n",
       "    }\n",
       "</style>\n",
       "<table border=\"1\" class=\"dataframe\">\n",
       "  <thead>\n",
       "    <tr>\n",
       "      <th></th>\n",
       "      <th></th>\n",
       "      <th>min</th>\n",
       "      <th>max</th>\n",
       "    </tr>\n",
       "    <tr>\n",
       "      <th></th>\n",
       "      <th></th>\n",
       "      <th>salary_in_usd</th>\n",
       "      <th>salary_in_usd</th>\n",
       "    </tr>\n",
       "    <tr>\n",
       "      <th>Категория зарплаты в долларах</th>\n",
       "      <th>job_title</th>\n",
       "      <th></th>\n",
       "      <th></th>\n",
       "    </tr>\n",
       "  </thead>\n",
       "  <tbody>\n",
       "    <tr>\n",
       "      <th rowspan=\"7\" valign=\"top\">низкая</th>\n",
       "      <th>Data Analyst</th>\n",
       "      <td>6072.0</td>\n",
       "      <td>72000.0</td>\n",
       "    </tr>\n",
       "    <tr>\n",
       "      <th>Data Analytics Engineer</th>\n",
       "      <td>20000.0</td>\n",
       "      <td>50000.0</td>\n",
       "    </tr>\n",
       "    <tr>\n",
       "      <th>Data Engineer</th>\n",
       "      <td>4000.0</td>\n",
       "      <td>70500.0</td>\n",
       "    </tr>\n",
       "    <tr>\n",
       "      <th>Data Science Engineer</th>\n",
       "      <td>40189.0</td>\n",
       "      <td>60000.0</td>\n",
       "    </tr>\n",
       "    <tr>\n",
       "      <th>Data Scientist</th>\n",
       "      <td>2859.0</td>\n",
       "      <td>71982.0</td>\n",
       "    </tr>\n",
       "    <tr>\n",
       "      <th>NLP Engineer</th>\n",
       "      <td>37236.0</td>\n",
       "      <td>37236.0</td>\n",
       "    </tr>\n",
       "    <tr>\n",
       "      <th>Product Data Analyst</th>\n",
       "      <td>6072.0</td>\n",
       "      <td>20000.0</td>\n",
       "    </tr>\n",
       "    <tr>\n",
       "      <th rowspan=\"9\" valign=\"top\">средняя</th>\n",
       "      <th>Data Analyst</th>\n",
       "      <td>75000.0</td>\n",
       "      <td>116150.0</td>\n",
       "    </tr>\n",
       "    <tr>\n",
       "      <th>Data Analytics Engineer</th>\n",
       "      <td>79197.0</td>\n",
       "      <td>110000.0</td>\n",
       "    </tr>\n",
       "    <tr>\n",
       "      <th>Data Analytics Manager</th>\n",
       "      <td>105400.0</td>\n",
       "      <td>109280.0</td>\n",
       "    </tr>\n",
       "    <tr>\n",
       "      <th>Data Engineer</th>\n",
       "      <td>72212.0</td>\n",
       "      <td>117789.0</td>\n",
       "    </tr>\n",
       "    <tr>\n",
       "      <th>Data Scientist</th>\n",
       "      <td>73000.0</td>\n",
       "      <td>119059.0</td>\n",
       "    </tr>\n",
       "    <tr>\n",
       "      <th>Head of Data Science</th>\n",
       "      <td>85000.0</td>\n",
       "      <td>110000.0</td>\n",
       "    </tr>\n",
       "    <tr>\n",
       "      <th>Head of Machine Learning</th>\n",
       "      <td>79039.0</td>\n",
       "      <td>79039.0</td>\n",
       "    </tr>\n",
       "    <tr>\n",
       "      <th>Machine Learning Developer</th>\n",
       "      <td>78791.0</td>\n",
       "      <td>100000.0</td>\n",
       "    </tr>\n",
       "    <tr>\n",
       "      <th>Machine Learning Manager</th>\n",
       "      <td>117104.0</td>\n",
       "      <td>117104.0</td>\n",
       "    </tr>\n",
       "    <tr>\n",
       "      <th rowspan=\"7\" valign=\"top\">высокая</th>\n",
       "      <th>Data Analyst</th>\n",
       "      <td>120600.0</td>\n",
       "      <td>200000.0</td>\n",
       "    </tr>\n",
       "    <tr>\n",
       "      <th>Data Analytics Lead</th>\n",
       "      <td>405000.0</td>\n",
       "      <td>405000.0</td>\n",
       "    </tr>\n",
       "    <tr>\n",
       "      <th>Data Analytics Manager</th>\n",
       "      <td>120000.0</td>\n",
       "      <td>150260.0</td>\n",
       "    </tr>\n",
       "    <tr>\n",
       "      <th>Data Engineer</th>\n",
       "      <td>120000.0</td>\n",
       "      <td>324000.0</td>\n",
       "    </tr>\n",
       "    <tr>\n",
       "      <th>Data Science Engineer</th>\n",
       "      <td>127221.0</td>\n",
       "      <td>127221.0</td>\n",
       "    </tr>\n",
       "    <tr>\n",
       "      <th>Data Scientist</th>\n",
       "      <td>120000.0</td>\n",
       "      <td>412000.0</td>\n",
       "    </tr>\n",
       "    <tr>\n",
       "      <th>Head of Data Science</th>\n",
       "      <td>167875.0</td>\n",
       "      <td>224000.0</td>\n",
       "    </tr>\n",
       "  </tbody>\n",
       "</table>\n",
       "</div>"
      ],
      "text/plain": [
       "                                                                   min  \\\n",
       "                                                         salary_in_usd   \n",
       "Категория зарплаты в долларах job_title                                  \n",
       "низкая                        Data Analyst                      6072.0   \n",
       "                              Data Analytics Engineer          20000.0   \n",
       "                              Data Engineer                     4000.0   \n",
       "                              Data Science Engineer            40189.0   \n",
       "                              Data Scientist                    2859.0   \n",
       "                              NLP Engineer                     37236.0   \n",
       "                              Product Data Analyst              6072.0   \n",
       "средняя                       Data Analyst                     75000.0   \n",
       "                              Data Analytics Engineer          79197.0   \n",
       "                              Data Analytics Manager          105400.0   \n",
       "                              Data Engineer                    72212.0   \n",
       "                              Data Scientist                   73000.0   \n",
       "                              Head of Data Science             85000.0   \n",
       "                              Head of Machine Learning         79039.0   \n",
       "                              Machine Learning Developer       78791.0   \n",
       "                              Machine Learning Manager        117104.0   \n",
       "высокая                       Data Analyst                    120600.0   \n",
       "                              Data Analytics Lead             405000.0   \n",
       "                              Data Analytics Manager          120000.0   \n",
       "                              Data Engineer                   120000.0   \n",
       "                              Data Science Engineer           127221.0   \n",
       "                              Data Scientist                  120000.0   \n",
       "                              Head of Data Science            167875.0   \n",
       "\n",
       "                                                                   max  \n",
       "                                                         salary_in_usd  \n",
       "Категория зарплаты в долларах job_title                                 \n",
       "низкая                        Data Analyst                     72000.0  \n",
       "                              Data Analytics Engineer          50000.0  \n",
       "                              Data Engineer                    70500.0  \n",
       "                              Data Science Engineer            60000.0  \n",
       "                              Data Scientist                   71982.0  \n",
       "                              NLP Engineer                     37236.0  \n",
       "                              Product Data Analyst             20000.0  \n",
       "средняя                       Data Analyst                    116150.0  \n",
       "                              Data Analytics Engineer         110000.0  \n",
       "                              Data Analytics Manager          109280.0  \n",
       "                              Data Engineer                   117789.0  \n",
       "                              Data Scientist                  119059.0  \n",
       "                              Head of Data Science            110000.0  \n",
       "                              Head of Machine Learning         79039.0  \n",
       "                              Machine Learning Developer      100000.0  \n",
       "                              Machine Learning Manager        117104.0  \n",
       "высокая                       Data Analyst                    200000.0  \n",
       "                              Data Analytics Lead             405000.0  \n",
       "                              Data Analytics Manager          150260.0  \n",
       "                              Data Engineer                   324000.0  \n",
       "                              Data Science Engineer           127221.0  \n",
       "                              Data Scientist                  412000.0  \n",
       "                              Head of Data Science            224000.0  "
      ]
     },
     "metadata": {},
     "output_type": "display_data"
    }
   ],
   "source": [
    "pivot6 = pd.pivot_table(data_df,values=\"salary_in_usd\",\n",
    "    index=[\"Категория зарплаты в долларах\", \"job_title\"],\n",
    "    aggfunc=[\"min\", \"max\"],\n",
    "    observed=False\n",
    ")\n",
    "\n",
    "display(pivot6)"
   ]
  },
  {
   "cell_type": "markdown",
   "metadata": {},
   "source": [
    "### Выводы \n",
    "\n",
    "Категория «низкая»:\n",
    "\n",
    "Диапазон зарплат: от ≈2 859 (минимум у Data Scientist) до ≈72 000.\n",
    "\n",
    "Сюда попали начинающие специалисты и младшие должности (например, Data Analyst, Product Data Analyst).\n",
    "\n",
    "В целом, это уровень джуниор/entry-level позиций.\n",
    "\n",
    "Категория «средняя»\n",
    "\n",
    "Диапазон: от ≈72 000 до ≈117 789.\n",
    "\n",
    "Тут уже появляются менеджеры (Data Analytics Manager, Head of Data Science), что отражает рост зарплаты с ростом ответственности.\n",
    "\n",
    "Большинство инженеров и аналитиков со стажем попали именно сюда.\n",
    "\n",
    "Категория «высокая»\n",
    "\n",
    "Диапазон: от ≈120 000 до 412 000.\n",
    "\n",
    "Максимальные зарплаты у Data Scientist (412 000) и Data Analytics Lead (405 000).\n",
    "\n",
    "Это уровень senior/lead и управленческих ролей (Head of Data Science, Data Analytics Manager).\n",
    "\n",
    "Общий вывод ывод\n",
    "\n",
    "Разделение по категориям показало чёткую карьерную лестницу:\n",
    "\n",
    "Низкая категория соответствует младшим и начинающим позициям (Analyst, Junior Engineer).\n",
    "\n",
    "Средняя категория отражает специалистов уровня middle/senior и первых менеджеров.\n",
    "\n",
    "Высокая категория включает руководителей и лидов, где разброс зарплат очень велик.\n",
    "\n",
    "Менеджерские должности (Head, Manager, Lead) почти всегда попадают в «среднюю» и «высокую» категории."
   ]
  },
  {
   "cell_type": "code",
   "execution_count": null,
   "metadata": {},
   "outputs": [],
   "source": []
  }
 ],
 "metadata": {
  "colab": {
   "provenance": []
  },
  "kernelspec": {
   "display_name": "Python [conda env:base] *",
   "language": "python",
   "name": "conda-base-py"
  },
  "language_info": {
   "codemirror_mode": {
    "name": "ipython",
    "version": 3
   },
   "file_extension": ".py",
   "mimetype": "text/x-python",
   "name": "python",
   "nbconvert_exporter": "python",
   "pygments_lexer": "ipython3",
   "version": "3.13.5"
  }
 },
 "nbformat": 4,
 "nbformat_minor": 4
}
